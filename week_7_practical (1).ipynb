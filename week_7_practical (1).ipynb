{
  "nbformat": 4,
  "nbformat_minor": 5,
  "metadata": {
    "kernelspec": {
      "display_name": "R",
      "language": "R",
      "name": "ir"
    },
    "language_info": {
      "codemirror_mode": "r",
      "file_extension": ".r",
      "mimetype": "text/x-r-source",
      "name": "R",
      "pygments_lexer": "r",
      "version": "4.0.2"
    },
    "colab": {
      "name": "week_7_practical.ipynb",
      "provenance": []
    }
  },
  "cells": [
    {
      "cell_type": "code",
      "metadata": {
        "colab": {
          "base_uri": "https://localhost:8080/"
        },
        "id": "e3ff195c",
        "outputId": "0448abcb-6e2f-40fd-ea6b-7b4388b2c174"
      },
      "source": [
        "library(tidyverse)"
      ],
      "id": "e3ff195c",
      "execution_count": 1,
      "outputs": [
        {
          "output_type": "stream",
          "name": "stderr",
          "text": [
            "Warning message in system(\"timedatectl\", intern = TRUE):\n",
            "“running command 'timedatectl' had status 1”\n",
            "── \u001b[1mAttaching packages\u001b[22m ─────────────────────────────────────── tidyverse 1.3.1 ──\n",
            "\n",
            "\u001b[32m✔\u001b[39m \u001b[34mggplot2\u001b[39m 3.3.5     \u001b[32m✔\u001b[39m \u001b[34mpurrr  \u001b[39m 0.3.4\n",
            "\u001b[32m✔\u001b[39m \u001b[34mtibble \u001b[39m 3.1.4     \u001b[32m✔\u001b[39m \u001b[34mdplyr  \u001b[39m 1.0.7\n",
            "\u001b[32m✔\u001b[39m \u001b[34mtidyr  \u001b[39m 1.1.3     \u001b[32m✔\u001b[39m \u001b[34mstringr\u001b[39m 1.4.0\n",
            "\u001b[32m✔\u001b[39m \u001b[34mreadr  \u001b[39m 2.0.1     \u001b[32m✔\u001b[39m \u001b[34mforcats\u001b[39m 0.5.1\n",
            "\n",
            "── \u001b[1mConflicts\u001b[22m ────────────────────────────────────────── tidyverse_conflicts() ──\n",
            "\u001b[31m✖\u001b[39m \u001b[34mdplyr\u001b[39m::\u001b[32mfilter()\u001b[39m masks \u001b[34mstats\u001b[39m::filter()\n",
            "\u001b[31m✖\u001b[39m \u001b[34mdplyr\u001b[39m::\u001b[32mlag()\u001b[39m    masks \u001b[34mstats\u001b[39m::lag()\n",
            "\n"
          ]
        }
      ]
    },
    {
      "cell_type": "markdown",
      "metadata": {
        "id": "d0486091"
      },
      "source": [
        "Q.1\n",
        "* We have use the following dataset in the course material to generate two datasets form the same distribution but which have different sample means\n",
        "  * here I am generating only 5 samples, insteaf of the 40 generated in the course material"
      ],
      "id": "d0486091"
    },
    {
      "cell_type": "code",
      "metadata": {
        "colab": {
          "base_uri": "https://localhost:8080/",
          "height": 407
        },
        "id": "3b0a10f7",
        "outputId": "6d6e5bf7-f910-4882-d474-36de85f37ec4"
      },
      "source": [
        "set.seed(110)\n",
        "data_1 = tibble(measure=rnorm(5, 10, 1))\n",
        "data_1$site_name <- 'Site 1'\n",
        "data_2 = tibble(measure=rnorm(5, 10, 1))\n",
        "data_2$site_name <- 'Site 2'\n",
        "complete_data = rbind(data_1, data_2)\n",
        "complete_data"
      ],
      "id": "3b0a10f7",
      "execution_count": null,
      "outputs": [
        {
          "output_type": "display_data",
          "data": {
            "text/plain": [
              "   measure   site_name\n",
              "1  10.291195 Site 1   \n",
              "2  11.388863 Site 1   \n",
              "3  10.649010 Site 1   \n",
              "4  11.477876 Site 1   \n",
              "5  10.438720 Site 1   \n",
              "6  10.522318 Site 2   \n",
              "7   9.955392 Site 2   \n",
              "8  11.484413 Site 2   \n",
              "9   8.408989 Site 2   \n",
              "10 10.225640 Site 2   "
            ],
            "text/latex": "A tibble: 10 × 2\n\\begin{tabular}{ll}\n measure & site\\_name\\\\\n <dbl> & <chr>\\\\\n\\hline\n\t 10.291195 & Site 1\\\\\n\t 11.388863 & Site 1\\\\\n\t 10.649010 & Site 1\\\\\n\t 11.477876 & Site 1\\\\\n\t 10.438720 & Site 1\\\\\n\t 10.522318 & Site 2\\\\\n\t  9.955392 & Site 2\\\\\n\t 11.484413 & Site 2\\\\\n\t  8.408989 & Site 2\\\\\n\t 10.225640 & Site 2\\\\\n\\end{tabular}\n",
            "text/markdown": "\nA tibble: 10 × 2\n\n| measure &lt;dbl&gt; | site_name &lt;chr&gt; |\n|---|---|\n| 10.291195 | Site 1 |\n| 11.388863 | Site 1 |\n| 10.649010 | Site 1 |\n| 11.477876 | Site 1 |\n| 10.438720 | Site 1 |\n| 10.522318 | Site 2 |\n|  9.955392 | Site 2 |\n| 11.484413 | Site 2 |\n|  8.408989 | Site 2 |\n| 10.225640 | Site 2 |\n\n",
            "text/html": [
              "<table class=\"dataframe\">\n",
              "<caption>A tibble: 10 × 2</caption>\n",
              "<thead>\n",
              "\t<tr><th scope=col>measure</th><th scope=col>site_name</th></tr>\n",
              "\t<tr><th scope=col>&lt;dbl&gt;</th><th scope=col>&lt;chr&gt;</th></tr>\n",
              "</thead>\n",
              "<tbody>\n",
              "\t<tr><td>10.291195</td><td>Site 1</td></tr>\n",
              "\t<tr><td>11.388863</td><td>Site 1</td></tr>\n",
              "\t<tr><td>10.649010</td><td>Site 1</td></tr>\n",
              "\t<tr><td>11.477876</td><td>Site 1</td></tr>\n",
              "\t<tr><td>10.438720</td><td>Site 1</td></tr>\n",
              "\t<tr><td>10.522318</td><td>Site 2</td></tr>\n",
              "\t<tr><td> 9.955392</td><td>Site 2</td></tr>\n",
              "\t<tr><td>11.484413</td><td>Site 2</td></tr>\n",
              "\t<tr><td> 8.408989</td><td>Site 2</td></tr>\n",
              "\t<tr><td>10.225640</td><td>Site 2</td></tr>\n",
              "</tbody>\n",
              "</table>\n"
            ]
          },
          "metadata": {}
        }
      ]
    },
    {
      "cell_type": "code",
      "metadata": {
        "id": "561899fd"
      },
      "source": [
        "* I compute the mean of the dataset above using the following code:\n",
        "  * feel free to deconstruct the code to see what each chunk does.\n"
      ],
      "id": "561899fd",
      "execution_count": null,
      "outputs": []
    },
    {
      "cell_type": "code",
      "metadata": {
        "id": "dde6ba00",
        "colab": {
          "base_uri": "https://localhost:8080/",
          "height": 51
        },
        "outputId": "6e2db079-3c53-4c5d-d353-3d0f900114fa"
      },
      "source": [
        "mean(complete_data[complete_data$site_name == \"Site 1\", ]$measure)\n",
        "mean(complete_data[complete_data$site_name == \"Site 2\", ]$measure)"
      ],
      "id": "dde6ba00",
      "execution_count": null,
      "outputs": [
        {
          "output_type": "display_data",
          "data": {
            "text/plain": [
              "[1] 10.84913"
            ],
            "text/latex": "10.8491329008612",
            "text/markdown": "10.8491329008612",
            "text/html": [
              "10.8491329008612"
            ]
          },
          "metadata": {}
        },
        {
          "output_type": "display_data",
          "data": {
            "text/plain": [
              "[1] 10.11935"
            ],
            "text/latex": "10.1193505444919",
            "text/markdown": "10.1193505444919",
            "text/html": [
              "10.1193505444919"
            ]
          },
          "metadata": {}
        }
      ]
    },
    {
      "cell_type": "markdown",
      "metadata": {
        "id": "1ac520b8"
      },
      "source": [
        "* Use the `tapply` function instead of the code above to compute the means samples from \"Site 1\" and those from site 2\n",
        "  * See tapply for help if needed"
      ],
      "id": "1ac520b8"
    },
    {
      "cell_type": "code",
      "metadata": {
        "id": "501355df",
        "colab": {
          "base_uri": "https://localhost:8080/",
          "height": 34
        },
        "outputId": "f06b8f8c-9e14-4bf1-eba5-2e54518f3f68"
      },
      "source": [
        "# Write your code here\n",
        "\n",
        "tapply(complete_data$measure, complete_data$site_name, mean)"
      ],
      "id": "501355df",
      "execution_count": null,
      "outputs": [
        {
          "output_type": "display_data",
          "data": {
            "text/plain": [
              "  Site 1   Site 2 \n",
              "10.84913 10.11935 "
            ],
            "text/latex": "\\begin{description*}\n\\item[Site 1] 10.8491329008612\n\\item[Site 2] 10.1193505444919\n\\end{description*}\n",
            "text/markdown": "Site 1\n:   10.8491329008612Site 2\n:   10.1193505444919\n\n",
            "text/html": [
              "<style>\n",
              ".dl-inline {width: auto; margin:0; padding: 0}\n",
              ".dl-inline>dt, .dl-inline>dd {float: none; width: auto; display: inline-block}\n",
              ".dl-inline>dt::after {content: \":\\0020\"; padding-right: .5ex}\n",
              ".dl-inline>dt:not(:first-of-type) {padding-left: .5ex}\n",
              "</style><dl class=dl-inline><dt>Site 1</dt><dd>10.8491329008612</dd><dt>Site 2</dt><dd>10.1193505444919</dd></dl>\n"
            ]
          },
          "metadata": {}
        }
      ]
    },
    {
      "cell_type": "markdown",
      "metadata": {
        "id": "fd91de00"
      },
      "source": [
        "Q.2 \n",
        "Recall that the test conducted on full version of data_1 and data_2 led us to conlclude that the difference between the two datasets is statistically significant, when both samples were in fact from the same distirbution  $\\mathcal{N}(\\mu=10, \\sigma=1)$\n",
        "\n",
        "* Use the permutation-based test covered in class to assess whether you arrive at the same conclusion\n",
        "\n",
        "* You can generate the data using the code snippet below\n",
        "\n"
      ],
      "id": "fd91de00"
    },
    {
      "cell_type": "code",
      "metadata": {
        "id": "f129769f"
      },
      "source": [
        "set.seed(110)\n",
        "data_1 = tibble(measure=rnorm(40, 10, 1))\n",
        "data_1$site_name <- 'Site 1'\n",
        "data_2 = tibble(measure=rnorm(40, 13, 1))\n",
        "data_2$site_name <- 'Site 2'\n",
        "complete_data = rbind(data_1, data_2)\n"
      ],
      "id": "f129769f",
      "execution_count": null,
      "outputs": []
    },
    {
      "cell_type": "code",
      "metadata": {
        "colab": {
          "base_uri": "https://localhost:8080/",
          "height": 437
        },
        "id": "6fd0e510",
        "outputId": "d3663dbe-360b-4aa3-8da8-93084f17b08d"
      },
      "source": [
        "ggplot(complete_data, aes(x=measure, fill = site_name)) + \n",
        "  geom_density(alpha = 0.4, bw =0.60) + \n",
        "  xlim(5,18)\n"
      ],
      "id": "6fd0e510",
      "execution_count": null,
      "outputs": [
        {
          "output_type": "display_data",
          "data": {
            "image/png": "[encoded data removed]",
            "text/plain": [
              "plot without title"
            ]
          },
          "metadata": {
            "image/png": {
              "width": 420,
              "height": 420
            }
          }
        }
      ]
    },
    {
      "cell_type": "code",
      "metadata": {
        "id": "FcnYt67JPNqi"
      },
      "source": [
        "shuffled_data = sample(complete_data)"
      ],
      "id": "FcnYt67JPNqi",
      "execution_count": null,
      "outputs": []
    },
    {
      "cell_type": "code",
      "metadata": {
        "id": "xE4z8SnVRJ3j",
        "colab": {
          "base_uri": "https://localhost:8080/",
          "height": 34
        },
        "outputId": "a7a55f49-318c-4e1c-a77f-48f751f58ee6"
      },
      "source": [
        "processOneIter = function(data_1, data_2){\n",
        "    \n",
        "    concat_data = c(data_1, data_2)\n",
        "    len_concat_data = length(concat_data)\n",
        "    \n",
        "    len_data_1 = length(data_1)    \n",
        "    shuffled_data = sample(concat_data)\n",
        "    new_data_1 = shuffled_data[1:len_data_1]\n",
        "    new_data_2 = shuffled_data[(len_data_1+1):len_concat_data]\n",
        "    mean(new_data_1) - mean(new_data_2)\n",
        "    \n",
        "}\n",
        "processOneIter(data_1$measure, data_2$measure)"
      ],
      "id": "xE4z8SnVRJ3j",
      "execution_count": null,
      "outputs": [
        {
          "output_type": "display_data",
          "data": {
            "text/plain": [
              "[1] -0.3806805"
            ],
            "text/latex": "-0.380680455922185",
            "text/markdown": "-0.380680455922185",
            "text/html": [
              "-0.380680455922185"
            ]
          },
          "metadata": {}
        }
      ]
    },
    {
      "cell_type": "code",
      "metadata": {
        "colab": {
          "base_uri": "https://localhost:8080/",
          "height": 34
        },
        "id": "uI0mgxS0kIm7",
        "outputId": "68038080-78b3-4fb6-c0d8-550f215d770a"
      },
      "source": [
        "replicate(5, processOneIter(data_1$measure, data_2$measure))"
      ],
      "id": "uI0mgxS0kIm7",
      "execution_count": null,
      "outputs": [
        {
          "output_type": "display_data",
          "data": {
            "text/plain": [
              "[1]  0.11527511  0.54807058  0.27159579  0.80727577 -0.02470954"
            ],
            "text/latex": "\\begin{enumerate*}\n\\item 0.115275110297592\n\\item 0.548070576101196\n\\item 0.271595785616874\n\\item 0.807275766950333\n\\item -0.0247095351679008\n\\end{enumerate*}\n",
            "text/markdown": "1. 0.115275110297592\n2. 0.548070576101196\n3. 0.271595785616874\n4. 0.807275766950333\n5. -0.0247095351679008\n\n\n",
            "text/html": [
              "<style>\n",
              ".list-inline {list-style: none; margin:0; padding: 0}\n",
              ".list-inline>li {display: inline-block}\n",
              ".list-inline>li:not(:last-child)::after {content: \"\\00b7\"; padding: 0 .5ex}\n",
              "</style>\n",
              "<ol class=list-inline><li>0.115275110297592</li><li>0.548070576101196</li><li>0.271595785616874</li><li>0.807275766950333</li><li>-0.0247095351679008</li></ol>\n"
            ]
          },
          "metadata": {}
        }
      ]
    },
    {
      "cell_type": "code",
      "metadata": {
        "colab": {
          "base_uri": "https://localhost:8080/",
          "height": 437
        },
        "id": "iLBkHb4T5Icb",
        "outputId": "a9fcd9c8-babc-4c29-8081-ed5b4a0a9792"
      },
      "source": [
        "mean_under_null = replicate(1000, processOneIter(data_1$measure, data_2$measure))\n",
        "\n",
        "ggplot()+\n",
        "  geom_histogram(aes(mean_under_null, y=..density..), bins =30, alpha=0.2, color=\"black\") + \n",
        "  geom_density(aes(mean_under_null), bw=0.15, size=1.5) + \n",
        "  xlim(-2.5, 2.5)"
      ],
      "id": "iLBkHb4T5Icb",
      "execution_count": null,
      "outputs": [
        {
          "output_type": "display_data",
          "data": {
            "image/png": "[encoded data removed]",
            "text/plain": [
              "plot without title"
            ]
          },
          "metadata": {
            "image/png": {
              "width": 420,
              "height": 420
            }
          }
        }
      ]
    },
    {
      "cell_type": "code",
      "metadata": {
        "colab": {
          "base_uri": "https://localhost:8080/",
          "height": 34
        },
        "id": "ZR9ojKep5zGl",
        "outputId": "cf7ab07b-65bf-4f19-b619-879ccd8500e6"
      },
      "source": [
        "observed_value = mean(data_1$measure) - mean(data_2$measure)\n",
        "observed_value"
      ],
      "id": "ZR9ojKep5zGl",
      "execution_count": null,
      "outputs": [
        {
          "output_type": "display_data",
          "data": {
            "text/plain": [
              "[1] -2.553808"
            ],
            "text/latex": "-2.553808107795",
            "text/markdown": "-2.553808107795",
            "text/html": [
              "-2.553808107795"
            ]
          },
          "metadata": {}
        }
      ]
    },
    {
      "cell_type": "code",
      "metadata": {
        "colab": {
          "base_uri": "https://localhost:8080/",
          "height": 437
        },
        "id": "9U0ogy2h6Duv",
        "outputId": "286d664e-f93b-4bee-997d-4062f83ceea5"
      },
      "source": [
        "ggplot()+\n",
        "  geom_histogram(aes(mean_under_null, y=..density..), bins =30, alpha=0.2, color=\"black\") + \n",
        "  geom_density(aes(mean_under_null), bw=0.2, size=0.5) + \n",
        "  xlim(-5, 5) + \n",
        "  geom_point(aes(observed_value, 0), color=\"red\", size=10)"
      ],
      "id": "9U0ogy2h6Duv",
      "execution_count": null,
      "outputs": [
        {
          "output_type": "display_data",
          "data": {
            "image/png": "[encoded data removed]",
            "text/plain": [
              "plot without title"
            ]
          },
          "metadata": {
            "image/png": {
              "width": 420,
              "height": 420
            }
          }
        }
      ]
    },
    {
      "cell_type": "code",
      "metadata": {
        "colab": {
          "base_uri": "https://localhost:8080/",
          "height": 34
        },
        "id": "35kvqOcu6N8q",
        "outputId": "e90c8031-c092-4e7b-ef33-7891ff05bde8"
      },
      "source": [
        "sum(mean_under_null <= observed_value)/ length(mean_under_null)"
      ],
      "id": "35kvqOcu6N8q",
      "execution_count": null,
      "outputs": [
        {
          "output_type": "display_data",
          "data": {
            "text/plain": [
              "[1] 0"
            ],
            "text/latex": "0",
            "text/markdown": "0",
            "text/html": [
              "0"
            ]
          },
          "metadata": {}
        }
      ]
    },
    {
      "cell_type": "markdown",
      "metadata": {
        "id": "71226301"
      },
      "source": [
        "Q.3 \n",
        "\n",
        "* The proportion of the of _P. lobata_, _M. capitata_ and _P. mendrina_ at a site X are c(0.60, 0.19, 0.21).\n",
        "* You surveyed a site Y with somewhat differentenvironmental conditions and obtains the following proportions for the same coral (0.61, 0.19, 0.20). Use the multinomial non-parameteric hypotheses test to assess the proportions obtained at sites X and Y are statistically differnet\n",
        "\n"
      ],
      "id": "71226301"
    },
    {
      "cell_type": "code",
      "metadata": {
        "colab": {
          "base_uri": "https://localhost:8080/",
          "height": 283
        },
        "id": "fT9XGlDt9f_q",
        "outputId": "4b29acc6-8710-4c62-dcf7-e0b6fb3d5829"
      },
      "source": [
        "kind = c('P.lobata', 'P.lobata', 'M.capitata', 'M.capitata', 'P.meandrina', 'P.meandrina')\n",
        "ratios = c(0.60, 0.61, 0.19, 0.19, 0.21, 0.20)\n",
        "method = rep(c(\"known\", \"observed\"), 3)\n",
        "\n",
        "coral_porportions = tibble(kind, ratios, method) \n",
        "coral_porportions"
      ],
      "id": "fT9XGlDt9f_q",
      "execution_count": 13,
      "outputs": [
        {
          "output_type": "display_data",
          "data": {
            "text/plain": [
              "  kind        ratios method  \n",
              "1 P.lobata    0.60   known   \n",
              "2 P.lobata    0.61   observed\n",
              "3 M.capitata  0.19   known   \n",
              "4 M.capitata  0.19   observed\n",
              "5 P.meandrina 0.21   known   \n",
              "6 P.meandrina 0.20   observed"
            ],
            "text/latex": "A tibble: 6 × 3\n\\begin{tabular}{lll}\n kind & ratios & method\\\\\n <chr> & <dbl> & <chr>\\\\\n\\hline\n\t P.lobata    & 0.60 & known   \\\\\n\t P.lobata    & 0.61 & observed\\\\\n\t M.capitata  & 0.19 & known   \\\\\n\t M.capitata  & 0.19 & observed\\\\\n\t P.meandrina & 0.21 & known   \\\\\n\t P.meandrina & 0.20 & observed\\\\\n\\end{tabular}\n",
            "text/markdown": "\nA tibble: 6 × 3\n\n| kind &lt;chr&gt; | ratios &lt;dbl&gt; | method &lt;chr&gt; |\n|---|---|---|\n| P.lobata    | 0.60 | known    |\n| P.lobata    | 0.61 | observed |\n| M.capitata  | 0.19 | known    |\n| M.capitata  | 0.19 | observed |\n| P.meandrina | 0.21 | known    |\n| P.meandrina | 0.20 | observed |\n\n",
            "text/html": [
              "<table class=\"dataframe\">\n",
              "<caption>A tibble: 6 × 3</caption>\n",
              "<thead>\n",
              "\t<tr><th scope=col>kind</th><th scope=col>ratios</th><th scope=col>method</th></tr>\n",
              "\t<tr><th scope=col>&lt;chr&gt;</th><th scope=col>&lt;dbl&gt;</th><th scope=col>&lt;chr&gt;</th></tr>\n",
              "</thead>\n",
              "<tbody>\n",
              "\t<tr><td>P.lobata   </td><td>0.60</td><td>known   </td></tr>\n",
              "\t<tr><td>P.lobata   </td><td>0.61</td><td>observed</td></tr>\n",
              "\t<tr><td>M.capitata </td><td>0.19</td><td>known   </td></tr>\n",
              "\t<tr><td>M.capitata </td><td>0.19</td><td>observed</td></tr>\n",
              "\t<tr><td>P.meandrina</td><td>0.21</td><td>known   </td></tr>\n",
              "\t<tr><td>P.meandrina</td><td>0.20</td><td>observed</td></tr>\n",
              "</tbody>\n",
              "</table>\n"
            ]
          },
          "metadata": {}
        }
      ]
    },
    {
      "cell_type": "code",
      "metadata": {
        "colab": {
          "base_uri": "https://localhost:8080/",
          "height": 437
        },
        "id": "8nEebZwdO6f7",
        "outputId": "94229f15-5c85-4001-9023-9b125696e589"
      },
      "source": [
        "ggplot(coral_porportions, aes(fill=method, y=ratios, x=kind)) + \n",
        "    geom_bar(position = \"dodge\", stat = \"identity\") +\n",
        "    coord_flip()\n"
      ],
      "id": "8nEebZwdO6f7",
      "execution_count": 16,
      "outputs": [
        {
          "output_type": "display_data",
          "data": {
            "image/png": "[encoded data removed]",
            "text/plain": [
              "plot without title"
            ]
          },
          "metadata": {
            "image/png": {
              "width": 420,
              "height": 420
            }
          }
        }
      ]
    },
    {
      "cell_type": "code",
      "metadata": {
        "colab": {
          "base_uri": "https://localhost:8080/",
          "height": 34
        },
        "id": "4MUBGATn-pr5",
        "outputId": "fb070403-30f7-45dd-ab8e-9aef7cef6cda"
      },
      "source": [
        "subtract_abs = function(x){\n",
        "    abs(x[1] - x[2])\n",
        "}\n",
        "\n",
        "subtract_abs(c(20, 15))"
      ],
      "id": "4MUBGATn-pr5",
      "execution_count": 17,
      "outputs": [
        {
          "output_type": "display_data",
          "data": {
            "text/plain": [
              "[1] 5"
            ],
            "text/latex": "5",
            "text/markdown": "5",
            "text/html": [
              "5"
            ]
          },
          "metadata": {}
        }
      ]
    },
    {
      "cell_type": "code",
      "metadata": {
        "colab": {
          "base_uri": "https://localhost:8080/",
          "height": 34
        },
        "id": "4BP8vwov2_14",
        "outputId": "36832fd3-2904-4aea-c27a-e99ef2961026"
      },
      "source": [
        "tapply(coral_porportions$ratios, coral_porportions$kind, subtract_abs)"
      ],
      "id": "4BP8vwov2_14",
      "execution_count": 18,
      "outputs": [
        {
          "output_type": "display_data",
          "data": {
            "text/plain": [
              " M.capitata    P.lobata P.meandrina \n",
              "       0.00        0.01        0.01 "
            ],
            "text/latex": "\\begin{description*}\n\\item[M.capitata] 0\n\\item[P.lobata] 0.01\n\\item[P.meandrina] 0.00999999999999998\n\\end{description*}\n",
            "text/markdown": "M.capitata\n:   0P.lobata\n:   0.01P.meandrina\n:   0.00999999999999998\n\n",
            "text/html": [
              "<style>\n",
              ".dl-inline {width: auto; margin:0; padding: 0}\n",
              ".dl-inline>dt, .dl-inline>dd {float: none; width: auto; display: inline-block}\n",
              ".dl-inline>dt::after {content: \":\\0020\"; padding-right: .5ex}\n",
              ".dl-inline>dt:not(:first-of-type) {padding-left: .5ex}\n",
              "</style><dl class=dl-inline><dt>M.capitata</dt><dd>0</dd><dt>P.lobata</dt><dd>0.01</dd><dt>P.meandrina</dt><dd>0.00999999999999998</dd></dl>\n"
            ]
          },
          "metadata": {}
        }
      ]
    },
    {
      "cell_type": "code",
      "metadata": {
        "colab": {
          "base_uri": "https://localhost:8080/",
          "height": 34
        },
        "id": "6QZtmyew2TdD",
        "outputId": "f0c4cf7a-633e-4e46-ae06-633c9ef90dc3"
      },
      "source": [
        "sum(tapply(coral_porportions$ratios, coral_porportions$kind, subtract_abs))/2"
      ],
      "id": "6QZtmyew2TdD",
      "execution_count": 19,
      "outputs": [
        {
          "output_type": "display_data",
          "data": {
            "text/plain": [
              "[1] 0.01"
            ],
            "text/latex": "0.01",
            "text/markdown": "0.01",
            "text/html": [
              "0.01"
            ]
          },
          "metadata": {}
        }
      ]
    },
    {
      "cell_type": "code",
      "metadata": {
        "colab": {
          "base_uri": "https://localhost:8080/",
          "height": 153
        },
        "id": "07-VPi--6kus",
        "outputId": "a3936a25-ef57-48d8-cc24-904da098574e"
      },
      "source": [
        "sample(c('P.lobata', 'M.capitata', 'P.meandrina'), 100, replace=TRUE, prob=c(0.60, 0.19, 0.21))"
      ],
      "id": "07-VPi--6kus",
      "execution_count": 21,
      "outputs": [
        {
          "output_type": "display_data",
          "data": {
            "text/plain": [
              "  [1] \"P.lobata\"    \"P.lobata\"    \"M.capitata\"  \"M.capitata\"  \"P.lobata\"   \n",
              "  [6] \"P.lobata\"    \"P.lobata\"    \"P.lobata\"    \"P.lobata\"    \"P.lobata\"   \n",
              " [11] \"P.lobata\"    \"P.lobata\"    \"P.lobata\"    \"P.lobata\"    \"M.capitata\" \n",
              " [16] \"P.meandrina\" \"P.lobata\"    \"P.lobata\"    \"P.meandrina\" \"P.lobata\"   \n",
              " [21] \"M.capitata\"  \"P.lobata\"    \"M.capitata\"  \"P.lobata\"    \"P.lobata\"   \n",
              " [26] \"P.lobata\"    \"P.lobata\"    \"M.capitata\"  \"P.lobata\"    \"P.lobata\"   \n",
              " [31] \"M.capitata\"  \"M.capitata\"  \"P.meandrina\" \"P.lobata\"    \"P.meandrina\"\n",
              " [36] \"P.lobata\"    \"M.capitata\"  \"P.lobata\"    \"P.lobata\"    \"P.meandrina\"\n",
              " [41] \"P.lobata\"    \"P.lobata\"    \"P.meandrina\" \"M.capitata\"  \"P.lobata\"   \n",
              " [46] \"P.lobata\"    \"P.meandrina\" \"P.lobata\"    \"P.lobata\"    \"P.lobata\"   \n",
              " [51] \"P.lobata\"    \"M.capitata\"  \"P.lobata\"    \"P.lobata\"    \"P.lobata\"   \n",
              " [56] \"P.lobata\"    \"P.lobata\"    \"P.lobata\"    \"P.meandrina\" \"M.capitata\" \n",
              " [61] \"P.lobata\"    \"P.lobata\"    \"M.capitata\"  \"M.capitata\"  \"P.meandrina\"\n",
              " [66] \"P.meandrina\" \"P.lobata\"    \"P.lobata\"    \"M.capitata\"  \"P.lobata\"   \n",
              " [71] \"P.lobata\"    \"P.meandrina\" \"P.meandrina\" \"P.lobata\"    \"M.capitata\" \n",
              " [76] \"M.capitata\"  \"P.lobata\"    \"P.lobata\"    \"P.meandrina\" \"P.lobata\"   \n",
              " [81] \"P.meandrina\" \"P.lobata\"    \"P.meandrina\" \"P.meandrina\" \"P.lobata\"   \n",
              " [86] \"P.lobata\"    \"M.capitata\"  \"P.lobata\"    \"P.lobata\"    \"P.lobata\"   \n",
              " [91] \"P.meandrina\" \"M.capitata\"  \"P.lobata\"    \"M.capitata\"  \"P.lobata\"   \n",
              " [96] \"P.lobata\"    \"P.lobata\"    \"M.capitata\"  \"P.lobata\"    \"P.lobata\"   "
            ],
            "text/latex": "\\begin{enumerate*}\n\\item 'P.lobata'\n\\item 'P.lobata'\n\\item 'M.capitata'\n\\item 'M.capitata'\n\\item 'P.lobata'\n\\item 'P.lobata'\n\\item 'P.lobata'\n\\item 'P.lobata'\n\\item 'P.lobata'\n\\item 'P.lobata'\n\\item 'P.lobata'\n\\item 'P.lobata'\n\\item 'P.lobata'\n\\item 'P.lobata'\n\\item 'M.capitata'\n\\item 'P.meandrina'\n\\item 'P.lobata'\n\\item 'P.lobata'\n\\item 'P.meandrina'\n\\item 'P.lobata'\n\\item 'M.capitata'\n\\item 'P.lobata'\n\\item 'M.capitata'\n\\item 'P.lobata'\n\\item 'P.lobata'\n\\item 'P.lobata'\n\\item 'P.lobata'\n\\item 'M.capitata'\n\\item 'P.lobata'\n\\item 'P.lobata'\n\\item 'M.capitata'\n\\item 'M.capitata'\n\\item 'P.meandrina'\n\\item 'P.lobata'\n\\item 'P.meandrina'\n\\item 'P.lobata'\n\\item 'M.capitata'\n\\item 'P.lobata'\n\\item 'P.lobata'\n\\item 'P.meandrina'\n\\item 'P.lobata'\n\\item 'P.lobata'\n\\item 'P.meandrina'\n\\item 'M.capitata'\n\\item 'P.lobata'\n\\item 'P.lobata'\n\\item 'P.meandrina'\n\\item 'P.lobata'\n\\item 'P.lobata'\n\\item 'P.lobata'\n\\item 'P.lobata'\n\\item 'M.capitata'\n\\item 'P.lobata'\n\\item 'P.lobata'\n\\item 'P.lobata'\n\\item 'P.lobata'\n\\item 'P.lobata'\n\\item 'P.lobata'\n\\item 'P.meandrina'\n\\item 'M.capitata'\n\\item 'P.lobata'\n\\item 'P.lobata'\n\\item 'M.capitata'\n\\item 'M.capitata'\n\\item 'P.meandrina'\n\\item 'P.meandrina'\n\\item 'P.lobata'\n\\item 'P.lobata'\n\\item 'M.capitata'\n\\item 'P.lobata'\n\\item 'P.lobata'\n\\item 'P.meandrina'\n\\item 'P.meandrina'\n\\item 'P.lobata'\n\\item 'M.capitata'\n\\item 'M.capitata'\n\\item 'P.lobata'\n\\item 'P.lobata'\n\\item 'P.meandrina'\n\\item 'P.lobata'\n\\item 'P.meandrina'\n\\item 'P.lobata'\n\\item 'P.meandrina'\n\\item 'P.meandrina'\n\\item 'P.lobata'\n\\item 'P.lobata'\n\\item 'M.capitata'\n\\item 'P.lobata'\n\\item 'P.lobata'\n\\item 'P.lobata'\n\\item 'P.meandrina'\n\\item 'M.capitata'\n\\item 'P.lobata'\n\\item 'M.capitata'\n\\item 'P.lobata'\n\\item 'P.lobata'\n\\item 'P.lobata'\n\\item 'M.capitata'\n\\item 'P.lobata'\n\\item 'P.lobata'\n\\end{enumerate*}\n",
            "text/markdown": "1. 'P.lobata'\n2. 'P.lobata'\n3. 'M.capitata'\n4. 'M.capitata'\n5. 'P.lobata'\n6. 'P.lobata'\n7. 'P.lobata'\n8. 'P.lobata'\n9. 'P.lobata'\n10. 'P.lobata'\n11. 'P.lobata'\n12. 'P.lobata'\n13. 'P.lobata'\n14. 'P.lobata'\n15. 'M.capitata'\n16. 'P.meandrina'\n17. 'P.lobata'\n18. 'P.lobata'\n19. 'P.meandrina'\n20. 'P.lobata'\n21. 'M.capitata'\n22. 'P.lobata'\n23. 'M.capitata'\n24. 'P.lobata'\n25. 'P.lobata'\n26. 'P.lobata'\n27. 'P.lobata'\n28. 'M.capitata'\n29. 'P.lobata'\n30. 'P.lobata'\n31. 'M.capitata'\n32. 'M.capitata'\n33. 'P.meandrina'\n34. 'P.lobata'\n35. 'P.meandrina'\n36. 'P.lobata'\n37. 'M.capitata'\n38. 'P.lobata'\n39. 'P.lobata'\n40. 'P.meandrina'\n41. 'P.lobata'\n42. 'P.lobata'\n43. 'P.meandrina'\n44. 'M.capitata'\n45. 'P.lobata'\n46. 'P.lobata'\n47. 'P.meandrina'\n48. 'P.lobata'\n49. 'P.lobata'\n50. 'P.lobata'\n51. 'P.lobata'\n52. 'M.capitata'\n53. 'P.lobata'\n54. 'P.lobata'\n55. 'P.lobata'\n56. 'P.lobata'\n57. 'P.lobata'\n58. 'P.lobata'\n59. 'P.meandrina'\n60. 'M.capitata'\n61. 'P.lobata'\n62. 'P.lobata'\n63. 'M.capitata'\n64. 'M.capitata'\n65. 'P.meandrina'\n66. 'P.meandrina'\n67. 'P.lobata'\n68. 'P.lobata'\n69. 'M.capitata'\n70. 'P.lobata'\n71. 'P.lobata'\n72. 'P.meandrina'\n73. 'P.meandrina'\n74. 'P.lobata'\n75. 'M.capitata'\n76. 'M.capitata'\n77. 'P.lobata'\n78. 'P.lobata'\n79. 'P.meandrina'\n80. 'P.lobata'\n81. 'P.meandrina'\n82. 'P.lobata'\n83. 'P.meandrina'\n84. 'P.meandrina'\n85. 'P.lobata'\n86. 'P.lobata'\n87. 'M.capitata'\n88. 'P.lobata'\n89. 'P.lobata'\n90. 'P.lobata'\n91. 'P.meandrina'\n92. 'M.capitata'\n93. 'P.lobata'\n94. 'M.capitata'\n95. 'P.lobata'\n96. 'P.lobata'\n97. 'P.lobata'\n98. 'M.capitata'\n99. 'P.lobata'\n100. 'P.lobata'\n\n\n",
            "text/html": [
              "<style>\n",
              ".list-inline {list-style: none; margin:0; padding: 0}\n",
              ".list-inline>li {display: inline-block}\n",
              ".list-inline>li:not(:last-child)::after {content: \"\\00b7\"; padding: 0 .5ex}\n",
              "</style>\n",
              "<ol class=list-inline><li>'P.lobata'</li><li>'P.lobata'</li><li>'M.capitata'</li><li>'M.capitata'</li><li>'P.lobata'</li><li>'P.lobata'</li><li>'P.lobata'</li><li>'P.lobata'</li><li>'P.lobata'</li><li>'P.lobata'</li><li>'P.lobata'</li><li>'P.lobata'</li><li>'P.lobata'</li><li>'P.lobata'</li><li>'M.capitata'</li><li>'P.meandrina'</li><li>'P.lobata'</li><li>'P.lobata'</li><li>'P.meandrina'</li><li>'P.lobata'</li><li>'M.capitata'</li><li>'P.lobata'</li><li>'M.capitata'</li><li>'P.lobata'</li><li>'P.lobata'</li><li>'P.lobata'</li><li>'P.lobata'</li><li>'M.capitata'</li><li>'P.lobata'</li><li>'P.lobata'</li><li>'M.capitata'</li><li>'M.capitata'</li><li>'P.meandrina'</li><li>'P.lobata'</li><li>'P.meandrina'</li><li>'P.lobata'</li><li>'M.capitata'</li><li>'P.lobata'</li><li>'P.lobata'</li><li>'P.meandrina'</li><li>'P.lobata'</li><li>'P.lobata'</li><li>'P.meandrina'</li><li>'M.capitata'</li><li>'P.lobata'</li><li>'P.lobata'</li><li>'P.meandrina'</li><li>'P.lobata'</li><li>'P.lobata'</li><li>'P.lobata'</li><li>'P.lobata'</li><li>'M.capitata'</li><li>'P.lobata'</li><li>'P.lobata'</li><li>'P.lobata'</li><li>'P.lobata'</li><li>'P.lobata'</li><li>'P.lobata'</li><li>'P.meandrina'</li><li>'M.capitata'</li><li>'P.lobata'</li><li>'P.lobata'</li><li>'M.capitata'</li><li>'M.capitata'</li><li>'P.meandrina'</li><li>'P.meandrina'</li><li>'P.lobata'</li><li>'P.lobata'</li><li>'M.capitata'</li><li>'P.lobata'</li><li>'P.lobata'</li><li>'P.meandrina'</li><li>'P.meandrina'</li><li>'P.lobata'</li><li>'M.capitata'</li><li>'M.capitata'</li><li>'P.lobata'</li><li>'P.lobata'</li><li>'P.meandrina'</li><li>'P.lobata'</li><li>'P.meandrina'</li><li>'P.lobata'</li><li>'P.meandrina'</li><li>'P.meandrina'</li><li>'P.lobata'</li><li>'P.lobata'</li><li>'M.capitata'</li><li>'P.lobata'</li><li>'P.lobata'</li><li>'P.lobata'</li><li>'P.meandrina'</li><li>'M.capitata'</li><li>'P.lobata'</li><li>'M.capitata'</li><li>'P.lobata'</li><li>'P.lobata'</li><li>'P.lobata'</li><li>'M.capitata'</li><li>'P.lobata'</li><li>'P.lobata'</li></ol>\n"
            ]
          },
          "metadata": {}
        }
      ]
    },
    {
      "cell_type": "code",
      "metadata": {
        "colab": {
          "base_uri": "https://localhost:8080/",
          "height": 212
        },
        "id": "85-hvC_NRP-w",
        "outputId": "af54a2b9-d66d-40cf-ba88-038413bbe501"
      },
      "source": [
        "rmultinom(1, 100, prob=c(0.60, 0.19, 0.21))/100"
      ],
      "id": "85-hvC_NRP-w",
      "execution_count": 22,
      "outputs": [
        {
          "output_type": "display_data",
          "data": {
            "text/plain": [
              "     [,1]\n",
              "[1,] 0.59\n",
              "[2,] 0.26\n",
              "[3,] 0.15"
            ],
            "text/latex": "A matrix: 3 × 1 of type dbl\n\\begin{tabular}{l}\n\t 0.59\\\\\n\t 0.26\\\\\n\t 0.15\\\\\n\\end{tabular}\n",
            "text/markdown": "\nA matrix: 3 × 1 of type dbl\n\n| 0.59 |\n| 0.26 |\n| 0.15 |\n\n",
            "text/html": [
              "<table class=\"dataframe\">\n",
              "<caption>A matrix: 3 × 1 of type dbl</caption>\n",
              "<tbody>\n",
              "\t<tr><td>0.59</td></tr>\n",
              "\t<tr><td>0.26</td></tr>\n",
              "\t<tr><td>0.15</td></tr>\n",
              "</tbody>\n",
              "</table>\n"
            ]
          },
          "metadata": {}
        }
      ]
    },
    {
      "cell_type": "code",
      "metadata": {
        "colab": {
          "base_uri": "https://localhost:8080/",
          "height": 34
        },
        "id": "Wt5bNc977s3A",
        "outputId": "b4e05aeb-6cc4-48c5-9e9d-f473ddf4f950"
      },
      "source": [
        "sampleOneIteration = function(){\n",
        "    true_proportions = c(0.60, 0.19, 0.21)\n",
        "    sample_proportions = rmultinom(1, 200, prob=c(0.60, 0.19, 0.21))/200\n",
        "    sample_tvd = sum(abs(true_proportions- sample_proportions))/2\n",
        "    sample_tvd\n",
        "        \n",
        "}\n",
        "sampleOneIteration()"
      ],
      "id": "Wt5bNc977s3A",
      "execution_count": 23,
      "outputs": [
        {
          "output_type": "display_data",
          "data": {
            "text/plain": [
              "[1] 0.03"
            ],
            "text/latex": "0.03",
            "text/markdown": "0.03",
            "text/html": [
              "0.03"
            ]
          },
          "metadata": {}
        }
      ]
    },
    {
      "cell_type": "code",
      "metadata": {
        "id": "kyfT7a3R73hP"
      },
      "source": [
        "tvds = replicate(1000, sampleOneIteration())"
      ],
      "id": "kyfT7a3R73hP",
      "execution_count": 24,
      "outputs": []
    },
    {
      "cell_type": "code",
      "metadata": {
        "id": "e2t4Bl-49H0a"
      },
      "source": [
        "observed_stat = sum(tapply(coral_porportions$ratios, coral_porportions$kind, subtract_abs))/2"
      ],
      "id": "e2t4Bl-49H0a",
      "execution_count": 25,
      "outputs": []
    },
    {
      "cell_type": "code",
      "metadata": {
        "colab": {
          "base_uri": "https://localhost:8080/",
          "height": 437
        },
        "id": "hlL3gmP0SKwA",
        "outputId": "c8b159dc-06cb-4a87-da76-f17c9de23a96"
      },
      "source": [
        "ggplot()+ \n",
        "  geom_histogram(aes(tvds, ..density..), bins = 15) +\n",
        "  geom_point(aes(observed_stat, 0), size=5, color=\"red\")"
      ],
      "id": "hlL3gmP0SKwA",
      "execution_count": 26,
      "outputs": [
        {
          "output_type": "display_data",
          "data": {
            "image/png": "[encoded data removed]",
            "text/plain": [
              "plot without title"
            ]
          },
          "metadata": {
            "image/png": {
              "width": 420,
              "height": 420
            }
          }
        }
      ]
    },
    {
      "cell_type": "code",
      "metadata": {
        "colab": {
          "base_uri": "https://localhost:8080/",
          "height": 34
        },
        "id": "P_3WiTI_SVvb",
        "outputId": "c943733d-eb9a-445d-c6aa-bbab1e281fb8"
      },
      "source": [
        "p_value = sum(tvds > observed_stat)  / length(tvds)\n",
        "p_value"
      ],
      "id": "P_3WiTI_SVvb",
      "execution_count": 27,
      "outputs": [
        {
          "output_type": "display_data",
          "data": {
            "text/plain": [
              "[1] 0.953"
            ],
            "text/latex": "0.953",
            "text/markdown": "0.953",
            "text/html": [
              "0.953"
            ]
          },
          "metadata": {}
        }
      ]
    }
  ]
}